{
 "cells": [
  {
   "cell_type": "code",
   "id": "initial_id",
   "metadata": {
    "collapsed": true
   },
   "source": "# Xử lý cột rỗng: Loại bỏ cột",
   "outputs": [],
   "execution_count": null
  },
  {
   "metadata": {},
   "cell_type": "code",
   "outputs": [],
   "execution_count": null,
   "source": "# Xử lý dữ liệu bất thường (Giá trị âm, ...): Loại bỏ giá trị đó",
   "id": "c43e027ee7028191"
  },
  {
   "metadata": {},
   "cell_type": "code",
   "source": "# Xử lý dữ liệu thiếu: Hồi quy nội tuyến",
   "id": "cef6386f477be075",
   "outputs": [],
   "execution_count": null
  },
  {
   "metadata": {},
   "cell_type": "code",
   "source": "# Lưu dữ liệu đã xử lý",
   "id": "89fcc00b0a8b1",
   "outputs": [],
   "execution_count": null
  }
 ],
 "metadata": {
  "kernelspec": {
   "display_name": "Python 3",
   "language": "python",
   "name": "python3"
  },
  "language_info": {
   "codemirror_mode": {
    "name": "ipython",
    "version": 2
   },
   "file_extension": ".py",
   "mimetype": "text/x-python",
   "name": "python",
   "nbconvert_exporter": "python",
   "pygments_lexer": "ipython2",
   "version": "2.7.6"
  }
 },
 "nbformat": 4,
 "nbformat_minor": 5
}
