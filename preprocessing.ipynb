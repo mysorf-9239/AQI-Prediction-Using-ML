{
 "cells": [
  {
   "cell_type": "code",
   "id": "initial_id",
   "metadata": {
    "collapsed": true,
    "ExecuteTime": {
     "end_time": "2025-03-24T22:20:51.828038Z",
     "start_time": "2025-03-24T22:20:51.821107Z"
    }
   },
   "source": [
    "import pandas as pd\n",
    "import numpy as np\n",
    "from sklearn.preprocessing import MinMaxScaler\n",
    "\n",
    "# Đọc dữ liệu từ tệp CSV\n",
    "df = pd.read_csv(\"data/fetch.csv\")\n",
    "\n",
    "# Chuyển cột 'Date UTC' thành kiểu datetime và đặt làm index\n",
    "df.rename(columns={'Date UTC': 'timestamp'}, inplace=True)\n",
    "df['timestamp'] = pd.to_datetime(df['timestamp'])\n",
    "df.set_index('timestamp', inplace=True)"
   ],
   "outputs": [],
   "execution_count": 3
  },
  {
   "metadata": {
    "ExecuteTime": {
     "end_time": "2025-03-24T22:23:07.173779Z",
     "start_time": "2025-03-24T22:23:07.156417Z"
    }
   },
   "cell_type": "code",
   "source": [
    "# Loại bỏ các cột chứa quá nhiều giá trị NaN (ví dụ: > 50% số dòng)\n",
    "threshold = len(df) * 0.5  # Nếu hơn 50% dữ liệu bị thiếu, loại bỏ cột đó\n",
    "df.dropna(axis=1, thresh=threshold, inplace=True)\n",
    "\n",
    "# Xử lý dữ liệu thiếu (NaN)\n",
    "# - Nếu dữ liệu thiếu ít: Dùng nội suy (Interpolate)\n",
    "df.interpolate(method='linear', inplace=True)\n",
    "\n",
    "# - Nếu dữ liệu thiếu nhiều: Điền bằng giá trị trung bình\n",
    "df.fillna(df.mean(), inplace=True)\n",
    "\n",
    "# Loại bỏ dữ liệu trùng lặp nếu có\n",
    "df.drop_duplicates(inplace=True)\n",
    "\n",
    "# Chuẩn hóa dữ liệu để phù hợp với LSTM\n",
    "scaler = MinMaxScaler()\n",
    "df_scaled = pd.DataFrame(scaler.fit_transform(df), columns=df.columns, index=df.index)"
   ],
   "id": "cef6386f477be075",
   "outputs": [],
   "execution_count": 6
  },
  {
   "metadata": {
    "ExecuteTime": {
     "end_time": "2025-03-24T22:23:10.526689Z",
     "start_time": "2025-03-24T22:23:10.513308Z"
    }
   },
   "cell_type": "code",
   "source": [
    "# Chia dữ liệu thành tập Train/Test (80% Train, 20% Test)\n",
    "train_size = int(len(df_scaled) * 0.8)\n",
    "train, test = df_scaled[:train_size], df_scaled[train_size:]\n",
    "\n",
    "# 7️⃣ Xuất dữ liệu đã tiền xử lý ra file mới\n",
    "train.to_csv(\"data/train_processed.csv\")\n",
    "test.to_csv(\"data/test_processed.csv\")\n",
    "\n",
    "print(\"Tiền xử lý hoàn tất! Dữ liệu đã được lưu vào train_processed.csv và test_processed.csv\")"
   ],
   "id": "b7f5a1729a0cf445",
   "outputs": [
    {
     "name": "stdout",
     "output_type": "stream",
     "text": [
      "✅ Tiền xử lý hoàn tất! Dữ liệu đã được lưu vào train_processed.csv và test_processed.csv\n"
     ]
    }
   ],
   "execution_count": 7
  },
  {
   "metadata": {},
   "cell_type": "code",
   "outputs": [],
   "execution_count": null,
   "source": "",
   "id": "89fcc00b0a8b1"
  }
 ],
 "metadata": {
  "kernelspec": {
   "display_name": "Python 3",
   "language": "python",
   "name": "python3"
  },
  "language_info": {
   "codemirror_mode": {
    "name": "ipython",
    "version": 2
   },
   "file_extension": ".py",
   "mimetype": "text/x-python",
   "name": "python",
   "nbconvert_exporter": "python",
   "pygments_lexer": "ipython2",
   "version": "2.7.6"
  }
 },
 "nbformat": 4,
 "nbformat_minor": 5
}
