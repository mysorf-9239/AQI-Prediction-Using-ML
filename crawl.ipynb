{
 "cells": [
  {
   "cell_type": "code",
   "id": "initial_id",
   "metadata": {
    "collapsed": true,
    "ExecuteTime": {
     "end_time": "2025-03-28T06:24:00.859438Z",
     "start_time": "2025-03-28T06:24:00.856032Z"
    }
   },
   "source": [
    "import pandas as pd\n",
    "import matplotlib.pyplot as plt\n",
    "import seaborn as sns\n",
    "from datetime import datetime, timedelta\n",
    "from openaq import OpenAQ\n",
    "from meteostat import Hourly, Point\n",
    "\n",
    "client = OpenAQ(api_key='e6b162759d6b804ebcb8e855fe46395c13d93c032dc5c5f22f551a530ee09cfe')\n",
    "\n",
    "# Tọa độ của Hà Nội\n",
    "latitude = 21.0285\n",
    "longitude = 105.8544\n",
    "radius = 5000  # 5km\n",
    "\n",
    "# Giá trị cào\n",
    "start_date = datetime(2024, 1, 1)\n",
    "end_date = datetime(2025, 1, 1)\n",
    "\n",
    "data = 'measurements'\n",
    "rollup = 'hourly'\n",
    "\n",
    "# Weather\n",
    "hanoi = Point(21.0285, 105.8542)\n"
   ],
   "outputs": [],
   "execution_count": 41
  },
  {
   "metadata": {
    "ExecuteTime": {
     "end_time": "2025-03-28T06:24:06.606871Z",
     "start_time": "2025-03-28T06:24:05.226101Z"
    }
   },
   "cell_type": "code",
   "source": [
    "# Lấy các trạm đo trong bán kính\n",
    "sensor_radius_data = []\n",
    "sensor_radius_list = []\n",
    "\n",
    "country = client.locations.list(\n",
    "    radius=radius,\n",
    "    coordinates=(latitude, longitude)\n",
    ")\n",
    "\n",
    "if country.results:\n",
    "    for location in country.results:\n",
    "        for sensor in location.sensors:\n",
    "            sensor_radius_list.append(sensor.id)\n",
    "\n",
    "            sensor_radius_data.append({\n",
    "                \"Location Name\": location.name,\n",
    "                \"Country\": location.country.name,\n",
    "                \"Timezone\": location.timezone,\n",
    "                \"Sensor ID\": sensor.id,\n",
    "                \"Sensor Name\": sensor.name,\n",
    "                \"Parameter\": sensor.parameter.name,\n",
    "                \"Units\": sensor.parameter.units\n",
    "            })\n",
    "\n",
    "df_sensors = pd.DataFrame(sensor_radius_data)\n",
    "\n",
    "print(df_sensors)\n",
    "print(sensor_radius_list)"
   ],
   "id": "d01c2a9455e6cf91",
   "outputs": [
    {
     "name": "stdout",
     "output_type": "stream",
     "text": [
      "                Location Name  Country      Timezone  Sensor ID Sensor Name  \\\n",
      "0   US Diplomatic Post: Hanoi  Vietnam  Asia/Bangkok       5049  pm25 µg/m³   \n",
      "1                       Hanoi  Vietnam  Asia/Bangkok      21632  pm25 µg/m³   \n",
      "2                  nồng độ pm  Vietnam  Asia/Bangkok    1742521  pm25 µg/m³   \n",
      "3              Cung thiếu nhi  Vietnam  Asia/Bangkok    7772083    co µg/m³   \n",
      "4              Cung thiếu nhi  Vietnam  Asia/Bangkok    7771978   no2 µg/m³   \n",
      "5              Cung thiếu nhi  Vietnam  Asia/Bangkok    7772082  pm10 µg/m³   \n",
      "6              Cung thiếu nhi  Vietnam  Asia/Bangkok    7772104  pm25 µg/m³   \n",
      "7                    Đầm Trấu  Vietnam  Asia/Bangkok    7772081    co µg/m³   \n",
      "8                    Đầm Trấu  Vietnam  Asia/Bangkok    7772045   no2 µg/m³   \n",
      "9                    Đầm Trấu  Vietnam  Asia/Bangkok    7771991  pm10 µg/m³   \n",
      "10                   Đầm Trấu  Vietnam  Asia/Bangkok    7771992  pm25 µg/m³   \n",
      "11                 Đào Duy Từ  Vietnam  Asia/Bangkok    7771983    co µg/m³   \n",
      "12                 Đào Duy Từ  Vietnam  Asia/Bangkok    7772030   no2 µg/m³   \n",
      "13                 Đào Duy Từ  Vietnam  Asia/Bangkok    7772101  pm10 µg/m³   \n",
      "14                 Đào Duy Từ  Vietnam  Asia/Bangkok    7772040  pm25 µg/m³   \n",
      "15       Đông Kinh Nghĩa Thục  Vietnam  Asia/Bangkok    7772090    co µg/m³   \n",
      "16       Đông Kinh Nghĩa Thục  Vietnam  Asia/Bangkok    7772026   no2 µg/m³   \n",
      "17       Đông Kinh Nghĩa Thục  Vietnam  Asia/Bangkok    7772085  pm10 µg/m³   \n",
      "18       Đông Kinh Nghĩa Thục  Vietnam  Asia/Bangkok    7772025  pm25 µg/m³   \n",
      "19                   Hàng Đậu  Vietnam  Asia/Bangkok    7772019    co µg/m³   \n",
      "20                   Hàng Đậu  Vietnam  Asia/Bangkok    7772102   no2 µg/m³   \n",
      "21                   Hàng Đậu  Vietnam  Asia/Bangkok    7772005  pm10 µg/m³   \n",
      "22                   Hàng Đậu  Vietnam  Asia/Bangkok    7771996  pm25 µg/m³   \n",
      "23                  Hoàn Kiếm  Vietnam  Asia/Bangkok    7772043    co µg/m³   \n",
      "24                  Hoàn Kiếm  Vietnam  Asia/Bangkok    7771987   no2 µg/m³   \n",
      "25                  Hoàn Kiếm  Vietnam  Asia/Bangkok    7772000  pm10 µg/m³   \n",
      "26                  Hoàn Kiếm  Vietnam  Asia/Bangkok    7771988  pm25 µg/m³   \n",
      "27                   Kim Liên  Vietnam  Asia/Bangkok    7772080    co µg/m³   \n",
      "28                   Kim Liên  Vietnam  Asia/Bangkok    7772093   no2 µg/m³   \n",
      "29                   Kim Liên  Vietnam  Asia/Bangkok    7772018  pm10 µg/m³   \n",
      "30                   Kim Liên  Vietnam  Asia/Bangkok    7772038  pm25 µg/m³   \n",
      "31                    Lê Trực  Vietnam  Asia/Bangkok    7772010    co µg/m³   \n",
      "32                    Lê Trực  Vietnam  Asia/Bangkok    7772021   no2 µg/m³   \n",
      "33                    Lê Trực  Vietnam  Asia/Bangkok    7771993  pm10 µg/m³   \n",
      "34                    Lê Trực  Vietnam  Asia/Bangkok    7772096  pm25 µg/m³   \n",
      "35                    Tân Mai  Vietnam  Asia/Bangkok    7772094    co µg/m³   \n",
      "36                    Tân Mai  Vietnam  Asia/Bangkok    7772098   no2 µg/m³   \n",
      "37                    Tân Mai  Vietnam  Asia/Bangkok    7772034  pm10 µg/m³   \n",
      "38                    Tân Mai  Vietnam  Asia/Bangkok    7772003  pm25 µg/m³   \n",
      "39                 Thành Công  Vietnam  Asia/Bangkok    7772078    co µg/m³   \n",
      "40                 Thành Công  Vietnam  Asia/Bangkok    7772007   no2 µg/m³   \n",
      "41                 Thành Công  Vietnam  Asia/Bangkok    7772060  pm10 µg/m³   \n",
      "42                 Thành Công  Vietnam  Asia/Bangkok    7772020  pm25 µg/m³   \n",
      "43                    Tứ Liên  Vietnam  Asia/Bangkok    7772074    co µg/m³   \n",
      "44                    Tứ Liên  Vietnam  Asia/Bangkok    7772070   no2 µg/m³   \n",
      "45                    Tứ Liên  Vietnam  Asia/Bangkok    7771994  pm10 µg/m³   \n",
      "46                    Tứ Liên  Vietnam  Asia/Bangkok    7772036  pm25 µg/m³   \n",
      "\n",
      "   Parameter  Units  \n",
      "0       pm25  µg/m³  \n",
      "1       pm25  µg/m³  \n",
      "2       pm25  µg/m³  \n",
      "3         co  µg/m³  \n",
      "4        no2  µg/m³  \n",
      "5       pm10  µg/m³  \n",
      "6       pm25  µg/m³  \n",
      "7         co  µg/m³  \n",
      "8        no2  µg/m³  \n",
      "9       pm10  µg/m³  \n",
      "10      pm25  µg/m³  \n",
      "11        co  µg/m³  \n",
      "12       no2  µg/m³  \n",
      "13      pm10  µg/m³  \n",
      "14      pm25  µg/m³  \n",
      "15        co  µg/m³  \n",
      "16       no2  µg/m³  \n",
      "17      pm10  µg/m³  \n",
      "18      pm25  µg/m³  \n",
      "19        co  µg/m³  \n",
      "20       no2  µg/m³  \n",
      "21      pm10  µg/m³  \n",
      "22      pm25  µg/m³  \n",
      "23        co  µg/m³  \n",
      "24       no2  µg/m³  \n",
      "25      pm10  µg/m³  \n",
      "26      pm25  µg/m³  \n",
      "27        co  µg/m³  \n",
      "28       no2  µg/m³  \n",
      "29      pm10  µg/m³  \n",
      "30      pm25  µg/m³  \n",
      "31        co  µg/m³  \n",
      "32       no2  µg/m³  \n",
      "33      pm10  µg/m³  \n",
      "34      pm25  µg/m³  \n",
      "35        co  µg/m³  \n",
      "36       no2  µg/m³  \n",
      "37      pm10  µg/m³  \n",
      "38      pm25  µg/m³  \n",
      "39        co  µg/m³  \n",
      "40       no2  µg/m³  \n",
      "41      pm10  µg/m³  \n",
      "42      pm25  µg/m³  \n",
      "43        co  µg/m³  \n",
      "44       no2  µg/m³  \n",
      "45      pm10  µg/m³  \n",
      "46      pm25  µg/m³  \n",
      "[5049, 21632, 1742521, 7772083, 7771978, 7772082, 7772104, 7772081, 7772045, 7771991, 7771992, 7771983, 7772030, 7772101, 7772040, 7772090, 7772026, 7772085, 7772025, 7772019, 7772102, 7772005, 7771996, 7772043, 7771987, 7772000, 7771988, 7772080, 7772093, 7772018, 7772038, 7772010, 7772021, 7771993, 7772096, 7772094, 7772098, 7772034, 7772003, 7772078, 7772007, 7772060, 7772020, 7772074, 7772070, 7771994, 7772036]\n"
     ]
    }
   ],
   "execution_count": 42
  },
  {
   "metadata": {
    "ExecuteTime": {
     "end_time": "2025-03-28T06:24:48.498073Z",
     "start_time": "2025-03-28T06:24:48.495637Z"
    }
   },
   "cell_type": "code",
   "source": [
    "# Lấy dữ liệu đo lường từ API sensors\n",
    "measurements_dict = {}\n",
    "\n",
    "data = 'measurements'\n",
    "rollup = 'hourly'\n",
    "datetime_from = '2025-01-01'\n",
    "datetime_to = '2025-02-01'"
   ],
   "id": "da19754bdd8703fd",
   "outputs": [],
   "execution_count": 46
  },
  {
   "metadata": {
    "ExecuteTime": {
     "end_time": "2025-03-28T06:25:47.385438Z",
     "start_time": "2025-03-28T06:24:51.615740Z"
    }
   },
   "cell_type": "code",
   "source": [
    "for sensor in sensor_radius_list:\n",
    "    measurements_list_data = []\n",
    "\n",
    "    measurements_response = client.measurements.list(\n",
    "        sensors_id=sensor,\n",
    "        data=data,\n",
    "        rollup=rollup,\n",
    "        datetime_from=datetime_from,\n",
    "        datetime_to=datetime_to\n",
    "    )\n",
    "\n",
    "    if measurements_response.results:\n",
    "        for result in measurements_response.results:\n",
    "            date_utc = datetime.strptime(result.period.datetime_from.utc, \"%Y-%m-%dT%H:%M:%SZ\")\n",
    "            formatted_date = date_utc.strftime(\"%Y-%m-%d %H:%M:%S\")\n",
    "\n",
    "            measurements_list_data.append({\n",
    "                \"Date UTC\": formatted_date,\n",
    "                \"Sensor ID\": sensor,\n",
    "                \"Parameter\": result.parameter.name,\n",
    "                \"Unit\": result.parameter.units,\n",
    "                \"Value\": result.value\n",
    "            })\n",
    "\n",
    "        # Chuyển danh sách thành DataFrame\n",
    "        df = pd.DataFrame(measurements_list_data)\n",
    "        df[\"Date UTC\"] = pd.to_datetime(df[\"Date UTC\"])\n",
    "\n",
    "        # Lưu vào dictionary\n",
    "        measurements_dict[f\"sensor_{sensor}_data\"] = df\n",
    "\n",
    "        print(f\"Sensor ID: {sensor}, Fetched shape: {df.shape}\")\n",
    "\n",
    "print(f\"Fetch Success\")"
   ],
   "id": "46c2aca2e014e2aa",
   "outputs": [
    {
     "name": "stdout",
     "output_type": "stream",
     "text": [
      "Sensor ID: 21632, Fetched shape: (744, 5)\n",
      "Sensor ID: 7772083, Fetched shape: (722, 5)\n",
      "Sensor ID: 7771978, Fetched shape: (722, 5)\n",
      "Sensor ID: 7772082, Fetched shape: (722, 5)\n",
      "Sensor ID: 7772104, Fetched shape: (722, 5)\n",
      "Sensor ID: 7771983, Fetched shape: (723, 5)\n",
      "Sensor ID: 7772030, Fetched shape: (723, 5)\n",
      "Sensor ID: 7772101, Fetched shape: (723, 5)\n",
      "Sensor ID: 7772040, Fetched shape: (723, 5)\n",
      "Fetch Success\n"
     ]
    }
   ],
   "execution_count": 47
  },
  {
   "metadata": {
    "ExecuteTime": {
     "end_time": "2025-03-28T06:34:12.041009Z",
     "start_time": "2025-03-28T06:34:12.011916Z"
    }
   },
   "cell_type": "code",
   "source": [
    "for sensor, df in measurements_dict.items():\n",
    "    df.to_csv(f\"data/{sensor}.csv\", index=False, encoding=\"utf-8\")\n"
   ],
   "id": "62ea7007c521a2b1",
   "outputs": [],
   "execution_count": 57
  },
  {
   "metadata": {
    "ExecuteTime": {
     "end_time": "2025-03-28T06:38:24.284112Z",
     "start_time": "2025-03-28T06:38:24.268188Z"
    }
   },
   "cell_type": "code",
   "source": [
    "# Gộp tất cả dữ liệu từ các sensor vào một DataFrame chung\n",
    "merged_df = pd.concat(measurements_dict.values(), ignore_index=True)\n",
    "\n",
    "# Gộp cột Parameter và Unit thành một cột duy nhất \"Parameter (Unit)\"\n",
    "merged_df[\"Parameter (Unit)\"] = merged_df[\"Parameter\"] + \" (\" + merged_df[\"Unit\"] + \")\"\n",
    "\n",
    "# Bỏ qua các giá trị âm trước khi tính trung bình\n",
    "merged_df = merged_df[merged_df[\"Value\"] >= 0]\n",
    "\n",
    "# Nhóm dữ liệu theo \"Date UTC\" và \"Parameter (Unit)\", tính trung bình\n",
    "df_grouped = merged_df.groupby([\"Date UTC\", \"Parameter (Unit)\"], as_index=False)[\"Value\"].mean()\n",
    "\n",
    "# Tạo dictionary chứa các bảng riêng cho từng Parameter\n",
    "parameter_tables = {}\n",
    "\n",
    "# Duyệt qua từng Parameter để tạo bảng riêng\n",
    "for param in df_grouped[\"Parameter (Unit)\"].unique():\n",
    "    df_param = df_grouped[df_grouped[\"Parameter (Unit)\"] == param][[\"Date UTC\", \"Value\"]].copy()\n",
    "    df_param.rename(columns={\"Value\": param}, inplace=True)\n",
    "    parameter_tables[param] = df_param\n",
    "\n",
    "    print(f\"Created table for {param}, shape: {df_param.shape}\")\n",
    "\n",
    "# Kiểm tra một bảng cụ thể (ví dụ: pm25 (µg/m³))\n",
    "print(parameter_tables.get(\"pm25 (µg/m³)\", \"Parameter not found\"))\n"
   ],
   "id": "76ecf78cbddfef6f",
   "outputs": [
    {
     "name": "stdout",
     "output_type": "stream",
     "text": [
      "Created table for co (µg/m³), shape: (723, 2)\n",
      "Created table for no2 (µg/m³), shape: (723, 2)\n",
      "Created table for pm10 (µg/m³), shape: (723, 2)\n",
      "Created table for pm25 (µg/m³), shape: (740, 2)\n",
      "                Date UTC  pm25 (µg/m³)\n",
      "3    2024-12-31 17:00:00     85.900000\n",
      "7    2024-12-31 21:00:00     88.600000\n",
      "11   2024-12-31 23:00:00    109.400000\n",
      "15   2025-01-01 00:00:00    112.200000\n",
      "19   2025-01-01 01:00:00    106.600000\n",
      "...                  ...           ...\n",
      "2892 2025-01-31 12:00:00     32.300000\n",
      "2896 2025-01-31 13:00:00     22.600000\n",
      "2900 2025-01-31 14:00:00     17.366667\n",
      "2904 2025-01-31 15:00:00     23.700000\n",
      "2908 2025-01-31 16:00:00     28.000000\n",
      "\n",
      "[740 rows x 2 columns]\n"
     ]
    }
   ],
   "execution_count": 60
  },
  {
   "metadata": {
    "ExecuteTime": {
     "end_time": "2025-03-28T06:46:34.720408Z",
     "start_time": "2025-03-28T06:46:34.706009Z"
    }
   },
   "cell_type": "code",
   "source": [
    "# Gộp tất cả dữ liệu từ các sensor vào một DataFrame chung\n",
    "merged_df = pd.concat(measurements_dict.values(), ignore_index=True)\n",
    "\n",
    "# Gộp cột Parameter và Unit thành một cột duy nhất \"Parameter (Unit)\"\n",
    "merged_df[\"Parameter (Unit)\"] = merged_df[\"Parameter\"] + \" (\" + merged_df[\"Unit\"] + \")\"\n",
    "\n",
    "# Bỏ qua các giá trị âm trước khi tính trung bình\n",
    "merged_df = merged_df[merged_df[\"Value\"] >= 0]\n",
    "\n",
    "# Nhóm dữ liệu theo \"Date UTC\" và \"Parameter (Unit)\", tính trung bình\n",
    "df_grouped = merged_df.groupby([\"Date UTC\", \"Parameter (Unit)\"], as_index=False)[\"Value\"].mean()\n",
    "\n",
    "# Pivot để chuyển các Parameter thành cột\n",
    "df_sensor_data = df_grouped.pivot(index=\"Date UTC\", columns=\"Parameter (Unit)\", values=\"Value\").reset_index()\n",
    "\n",
    "# Bỏ tên cột index của pivot\n",
    "df_sensor_data.columns.name = None\n",
    "\n",
    "# Xử lý dữ liệu bị thiếu (Chọn 1 trong 2 cách dưới đây nếu cần)\n",
    "# df_final.fillna(0, inplace=True)  # Điền 0 nếu không có dữ liệu (nếu cần)\n",
    "# df_final.fillna(method='ffill', inplace=True)  # Điền giá trị gần nhất trước đó\n",
    "\n",
    "# Hiển thị bảng hợp nhất\n",
    "print(df_sensor_data.head())"
   ],
   "id": "e03011f64f94c5f6",
   "outputs": [
    {
     "name": "stdout",
     "output_type": "stream",
     "text": [
      "             Date UTC  co (µg/m³)  no2 (µg/m³)  pm10 (µg/m³)  pm25 (µg/m³)\n",
      "0 2024-12-31 17:00:00      1935.0        75.20         124.0          85.9\n",
      "1 2024-12-31 21:00:00      1520.0        58.60         128.0          88.6\n",
      "2 2024-12-31 23:00:00      1635.0        56.45         158.5         109.4\n",
      "3 2025-01-01 00:00:00      1560.0        59.95         162.5         112.2\n",
      "4 2025-01-01 01:00:00      1295.0        62.45         147.5         106.6\n"
     ]
    }
   ],
   "execution_count": 67
  },
  {
   "metadata": {
    "ExecuteTime": {
     "end_time": "2025-03-28T06:46:19.791211Z",
     "start_time": "2025-03-28T06:46:19.761963Z"
    }
   },
   "cell_type": "code",
   "source": [
    "# Lấy dữ liệu thời tiết từ Meteostat\n",
    "from meteostat import Hourly, Point\n",
    "\n",
    "hanoi = Point(21.0285, 105.8542)\n",
    "\n",
    "start = pd.Timestamp(datetime(2025, 1, 1))\n",
    "end = pd.Timestamp(datetime(2025, 2, 1))\n",
    "\n",
    "df_weather_data = Hourly(hanoi, start, end).fetch()\n",
    "\n",
    "# Đồng bộ cột Index để merge\n",
    "df_weather_data = df_weather_data.reset_index()\n",
    "df_weather_data.rename(columns={\"time\": \"Date UTC\"}, inplace=True)\n",
    "\n",
    "# In kết quả\n",
    "print(df_weather_data.head())"
   ],
   "id": "10bbee1b5e69d6f5",
   "outputs": [
    {
     "name": "stdout",
     "output_type": "stream",
     "text": [
      "             Date UTC  temp  dwpt  rhum  prcp  snow   wdir  wspd  wpgt  \\\n",
      "0 2025-01-01 00:00:00  12.0  11.1  94.0   0.0   NaN    0.0   0.0   NaN   \n",
      "1 2025-01-01 01:00:00  14.0  13.0  94.0   0.0   NaN  100.0   5.4   NaN   \n",
      "2 2025-01-01 02:00:00  17.0  12.9  77.0   0.0   NaN   80.0   5.4   NaN   \n",
      "3 2025-01-01 03:00:00  19.0  12.0  64.0   0.0   NaN   80.0   7.6   NaN   \n",
      "4 2025-01-01 04:00:00  21.0  12.9  60.0   0.0   NaN   90.0   7.6   NaN   \n",
      "\n",
      "     pres  tsun  coco  \n",
      "0  1019.0   NaN   5.0  \n",
      "1  1020.0   NaN   5.0  \n",
      "2  1020.0   NaN   5.0  \n",
      "3  1020.0   NaN   5.0  \n",
      "4  1019.0   NaN   5.0  \n"
     ]
    },
    {
     "name": "stderr",
     "output_type": "stream",
     "text": [
      "FutureWarning: 'H' is deprecated and will be removed in a future version, please use 'h' instead.\n"
     ]
    }
   ],
   "execution_count": 65
  },
  {
   "metadata": {
    "ExecuteTime": {
     "end_time": "2025-03-28T06:46:53.571221Z",
     "start_time": "2025-03-28T06:46:53.566117Z"
    }
   },
   "cell_type": "code",
   "source": [
    "# Merge 2 table theo cột Index: \"Date UTC\"\n",
    "df_final = pd.merge(df_sensor_data, df_weather_data, on=\"Date UTC\", how=\"outer\")"
   ],
   "id": "1d736500a2fe099f",
   "outputs": [],
   "execution_count": 69
  },
  {
   "metadata": {
    "ExecuteTime": {
     "end_time": "2025-03-28T06:54:16.650517Z",
     "start_time": "2025-03-28T06:54:16.640143Z"
    }
   },
   "cell_type": "code",
   "source": [
    "# Xuất kết quả ra file CSV\n",
    "df_final.to_csv(\"data/crawl.csv\", index=False, encoding=\"utf-8\")"
   ],
   "id": "2c687b2f49d441b7",
   "outputs": [],
   "execution_count": 72
  }
 ],
 "metadata": {
  "kernelspec": {
   "display_name": "Python 3",
   "language": "python",
   "name": "python3"
  },
  "language_info": {
   "codemirror_mode": {
    "name": "ipython",
    "version": 2
   },
   "file_extension": ".py",
   "mimetype": "text/x-python",
   "name": "python",
   "nbconvert_exporter": "python",
   "pygments_lexer": "ipython2",
   "version": "2.7.6"
  }
 },
 "nbformat": 4,
 "nbformat_minor": 5
}
